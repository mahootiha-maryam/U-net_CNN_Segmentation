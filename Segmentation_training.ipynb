{
 "cells": [
  {
   "cell_type": "markdown",
   "id": "e920a12e",
   "metadata": {},
   "source": [
    "Import libraries"
   ]
  },
  {
   "cell_type": "code",
   "execution_count": 2,
   "id": "d3a612b6",
   "metadata": {},
   "outputs": [],
   "source": [
    "from pathlib import Path \n",
    "from monai.data import Dataset\n",
    "from monai.transforms import (\n",
    "    AsDiscrete,\n",
    "    AsDiscreted,\n",
    "    Compose,\n",
    "    LoadImaged,\n",
    "    ToTensord,\n",
    "    AddChanneld,\n",
    "    Spacingd,\n",
    "    ScaleIntensityRanged,\n",
    "    CropForegroundd, \n",
    "    Resized,\n",
    "    Orientationd,\n",
    "    Invertd,\n",
    "    SaveImaged,\n",
    "    EnsureChannelFirstd)\n",
    " \n",
    "import torch\n",
    "import random\n",
    "from monai.networks.nets import UNet\n",
    "from monai.networks.layers import Norm\n",
    "from monai.metrics import DiceMetric\n",
    "from monai.losses import DiceLoss\n",
    "from monai.inferers import sliding_window_inference\n",
    "from monai.data import CacheDataset, DataLoader, Dataset, decollate_batch\n",
    "from monai.config import print_config\n",
    "from monai.apps import download_and_extract\n",
    "import torch\n",
    "import matplotlib.pyplot as plt\n",
    "import tempfile\n",
    "import shutil\n",
    "import os\n",
    "from glob import glob\n",
    "from monai.utils import first\n",
    "import numpy as np\n",
    "from torch.utils.data import Subset\n",
    "import nibabel as nib"
   ]
  },
  {
   "cell_type": "markdown",
   "id": "9ec23ff8",
   "metadata": {},
   "source": [
    "Paths of kidney images"
   ]
  },
  {
   "cell_type": "code",
   "execution_count": 3,
   "id": "3cdf42ac",
   "metadata": {},
   "outputs": [],
   "source": [
    "data_dir = Path('/home/mary/Documents/kidney_ds')\n",
    "\n",
    "data_subdir_iml = data_dir / \"image\"/ \"left\"\n",
    "\n",
    "data_subdir_imr = data_dir / \"image\"/ \"right\"\n",
    "\n",
    "data_subdir_lbl = data_dir / \"label\"/ \"left\"\n",
    "\n",
    "data_subdir_lbr = data_dir / \"label\"/ \"right\""
   ]
  },
  {
   "cell_type": "code",
   "execution_count": 4,
   "id": "881ec0dd",
   "metadata": {},
   "outputs": [],
   "source": [
    "images_left = sorted(glob(os.path.join(data_subdir_iml, '*.nii.gz')))\n",
    "images_right = sorted(glob(os.path.join(data_subdir_imr, '*.nii.gz')))\n",
    "labels_left = sorted(glob(os.path.join(data_subdir_lbl, '*.nii.gz')))\n",
    "labels_right = sorted(glob(os.path.join(data_subdir_lbr, '*.nii.gz')))"
   ]
  },
  {
   "cell_type": "code",
   "execution_count": 5,
   "id": "9a9b5a7e",
   "metadata": {},
   "outputs": [],
   "source": [
    "train_files_left = [{\"image\": image_name, 'label': label_name} for image_name, label_name in zip(images_left, labels_left)]\n",
    "train_files_right = [{\"image\": image_name, 'label': label_name} for image_name, label_name in zip(images_right, labels_right)]"
   ]
  },
  {
   "cell_type": "markdown",
   "id": "3b67860c",
   "metadata": {},
   "source": [
    "Monai transormers"
   ]
  },
  {
   "cell_type": "code",
   "execution_count": 6,
   "id": "4a96893a",
   "metadata": {},
   "outputs": [],
   "source": [
    "train_transforms = Compose(\n",
    "    [\n",
    "        LoadImaged(keys=['image', 'label']),\n",
    "        #add channels to the images that monai can interpret in this way\n",
    "        AddChanneld(keys=['image', 'label']),\n",
    "        #rescale the voxels pixdim=(height,width,depth) \n",
    "        Spacingd(keys=['image', 'label'], pixdim=(1.5, 1.5, 2)),\n",
    "        Orientationd(keys=['image', 'label'], axcodes=\"RAS\"),\n",
    "        ScaleIntensityRanged(keys='image', a_min=-100, a_max=1000, b_min=0.0, b_max=1.0, clip=True),\n",
    "        Resized(keys=['image', 'label'], spatial_size=[128, 128, 128]),\n",
    "        #to tensor should be the last transform\n",
    "        ToTensord(keys=['image', 'label'])\n",
    "    ]\n",
    ")\n"
   ]
  },
  {
   "cell_type": "code",
   "execution_count": 7,
   "id": "08951eff",
   "metadata": {},
   "outputs": [],
   "source": [
    "train_ds_left = Dataset(data=train_files_left, transform=train_transforms)\n",
    "train_ds_right = Dataset(data=train_files_right, transform=train_transforms)"
   ]
  },
  {
   "cell_type": "markdown",
   "id": "b9e5354b",
   "metadata": {},
   "source": [
    "Making a class that takes left images and right images.\n",
    "Concatenate them on channel dimension"
   ]
  },
  {
   "cell_type": "code",
   "execution_count": 8,
   "id": "6106cd24",
   "metadata": {},
   "outputs": [],
   "source": [
    "class Data_Single(Dataset):\n",
    "\n",
    "    def __init__(self, im_dataset_l, im_dataset_r):\n",
    "        self.im_dataset_l = im_dataset_l\n",
    "        self.im_dataset_r = im_dataset_r\n",
    "\n",
    "    def __len__(self):\n",
    "        return len(self.im_dataset_l)\n",
    "\n",
    "    def __getitem__(self, index):\n",
    "        if type(index) is not int:\n",
    "            if type(index) is not np.int64:\n",
    "                raise ValueError(f\"Need `index` to be `int`. Got {type(index)}.\")\n",
    "        if type(index) is np.int64:\n",
    "            index = index.item()\n",
    "            \n",
    "                    \n",
    "        img1 = self.im_dataset_l[index]['image']\n",
    "        img2 = self.im_dataset_r[index]['image']\n",
    "        \n",
    "        lbl1 = self.im_dataset_l[index]['label']\n",
    "        lbl2 = self.im_dataset_r[index]['label']\n",
    "        \n",
    "        img = torch.cat((img1,img2),0)\n",
    "        lbl = torch.cat((lbl1,lbl2),0)\n",
    "        \n",
    "        return img, lbl"
   ]
  },
  {
   "cell_type": "code",
   "execution_count": 9,
   "id": "5749b6b8",
   "metadata": {},
   "outputs": [],
   "source": [
    "our_dataset = Data_Single(train_ds_left, train_ds_right)"
   ]
  },
  {
   "cell_type": "markdown",
   "id": "c727c9a1",
   "metadata": {},
   "source": [
    "Check dataloader and try to plot one slice that has tumor from dataloader "
   ]
  },
  {
   "cell_type": "code",
   "execution_count": 10,
   "id": "3702c1e0",
   "metadata": {},
   "outputs": [
    {
     "data": {
      "text/plain": [
       "62"
      ]
     },
     "execution_count": 10,
     "metadata": {},
     "output_type": "execute_result"
    }
   ],
   "source": [
    "check_loader = DataLoader(our_dataset, batch_size=2)\n",
    "check_data = first(check_loader)\n",
    "#in check_data first elemnt is for image or label second is for number of batch\n",
    "#third is for input channel, forth is width , fifth is height and sixth is \n",
    "image, label = (check_data[0][0][0], check_data[1][0][0])\n",
    "\n",
    "listofslice = []\n",
    "\n",
    "for counter1 in range(128):\n",
    "    for counter2 in range(128):\n",
    "        for counter3 in range(128):\n",
    "            if label[counter1][counter2][counter3] == 1:\n",
    "                listofslice.append(counter3)\n",
    "listofslice = np.unique(listofslice)\n",
    "slice_nummber = random.choice(listofslice)\n",
    "slice_nummber"
   ]
  },
  {
   "cell_type": "code",
   "execution_count": 11,
   "id": "96b39bd7",
   "metadata": {},
   "outputs": [
    {
     "name": "stdout",
     "output_type": "stream",
     "text": [
      "torch.Size([2, 2, 128, 128, 128])\n"
     ]
    }
   ],
   "source": [
    "print(check_data[0].shape)"
   ]
  },
  {
   "cell_type": "code",
   "execution_count": 12,
   "id": "726a60d5",
   "metadata": {},
   "outputs": [
    {
     "data": {
      "image/png": "[encoded data removed]",
      "text/plain": [
       "<Figure size 864x432 with 2 Axes>"
      ]
     },
     "metadata": {
      "needs_background": "light"
     },
     "output_type": "display_data"
    }
   ],
   "source": [
    "plt.figure(\"check\", (12, 6))\n",
    "plt.subplot(1, 2, 1)\n",
    "plt.title(\"image\")\n",
    "plt.imshow(image[:, :, slice_nummber], cmap=\"gray\")\n",
    "plt.subplot(1, 2, 2)\n",
    "plt.title(\"label\")\n",
    "plt.imshow(label[:, :, slice_nummber])\n",
    "plt.show()\n"
   ]
  },
  {
   "cell_type": "markdown",
   "id": "bb3803db",
   "metadata": {},
   "source": [
    "Choose random numbers for making train, test and validation datasets"
   ]
  },
  {
   "cell_type": "code",
   "execution_count": 13,
   "id": "36851163",
   "metadata": {},
   "outputs": [],
   "source": [
    "random_train = np.random.randint(300, size= int(0.6*len(our_dataset)))\n",
    "\n",
    "random_val = np.zeros(int(0.2*len(our_dataset)),dtype=np.int64)\n",
    "\n",
    "random_test = np.zeros(int(0.2*len(our_dataset)),dtype=np.int64)\n",
    "\n",
    "for i in range(len(random_val)):\n",
    "    number_val = np.random.randint(300, size=1)\n",
    "    for number_val in random_train:\n",
    "        number_val = np.random.randint(300, size=1)\n",
    "    random_val[i] = number_val    \n",
    "\n",
    "for j in range(len(random_test)):\n",
    "     number_test = np.random.randint(300, size=1)\n",
    "     for number_test in random_train:\n",
    "         number_test = np.random.randint(300, size=1)\n",
    "         for number_test in random_val:\n",
    "            number_test = np.random.randint(300, size=1)\n",
    "     random_test[j] = number_test  "
   ]
  },
  {
   "cell_type": "markdown",
   "id": "434bd004",
   "metadata": {},
   "source": [
    "Making Sub datas"
   ]
  },
  {
   "cell_type": "code",
   "execution_count": 14,
   "id": "7832a523",
   "metadata": {},
   "outputs": [],
   "source": [
    "sub_traindata = Subset(our_dataset, random_train)\n",
    "sub_valdata = Subset(our_dataset, random_val)\n",
    "sub_testdata = Subset(our_dataset, random_test)"
   ]
  },
  {
   "cell_type": "markdown",
   "id": "998378ff",
   "metadata": {},
   "source": [
    "Making Dataloaders"
   ]
  },
  {
   "cell_type": "code",
   "execution_count": 15,
   "id": "c36a2e96",
   "metadata": {},
   "outputs": [],
   "source": [
    "train_loader = DataLoader(sub_traindata, batch_size = 10, shuffle=False)\n",
    "val_loader = DataLoader(sub_valdata, batch_size = 10, shuffle=False)\n",
    "test_loader = DataLoader(sub_testdata, batch_size = 10, shuffle=False)"
   ]
  },
  {
   "cell_type": "markdown",
   "id": "f925261b",
   "metadata": {},
   "source": [
    "Directiry for saving model"
   ]
  },
  {
   "cell_type": "code",
   "execution_count": 16,
   "id": "5c351498",
   "metadata": {},
   "outputs": [],
   "source": [
    "root_dir = Path('/home/mary/Documents/kidney_ds/codes')"
   ]
  },
  {
   "cell_type": "markdown",
   "id": "1c655859",
   "metadata": {},
   "source": [
    "Model for segmentation"
   ]
  },
  {
   "cell_type": "code",
   "execution_count": 17,
   "id": "aa10e746",
   "metadata": {},
   "outputs": [],
   "source": [
    "device = torch.device(\"cuda:0\")\n",
    "model = UNet(\n",
    "    spatial_dims=3,\n",
    "    in_channels=2,\n",
    "    out_channels=2,\n",
    "    channels=(64, 128, 256, 512, 1024),\n",
    "    strides=(2, 2, 2, 2),\n",
    "    num_res_units=2,\n",
    "    norm=Norm.BATCH,\n",
    ").to(device)\n"
   ]
  },
  {
   "cell_type": "code",
   "execution_count": 19,
   "id": "428dffb9",
   "metadata": {},
   "outputs": [
    {
     "name": "stdout",
     "output_type": "stream",
     "text": [
      "======================================================================\n",
      "Layer (type:depth-idx)                        Param #\n",
      "======================================================================\n",
      "├─Sequential: 1-1                             --\n",
      "|    └─ResidualUnit: 2-1                      --\n",
      "|    |    └─Sequential: 3-1                   114,434\n",
      "|    |    └─Conv3d: 3-2                       3,520\n",
      "|    └─SkipConnection: 2-2                    --\n",
      "|    |    └─Sequential: 3-3                   76,738,318\n",
      "|    └─Sequential: 2-3                        --\n",
      "|    |    └─Convolution: 3-4                  6,919\n",
      "|    |    └─ResidualUnit: 3-5                 110\n",
      "======================================================================\n",
      "Total params: 76,863,301\n",
      "Trainable params: 76,863,301\n",
      "Non-trainable params: 0\n",
      "======================================================================\n"
     ]
    },
    {
     "data": {
      "text/plain": [
       "======================================================================\n",
       "Layer (type:depth-idx)                        Param #\n",
       "======================================================================\n",
       "├─Sequential: 1-1                             --\n",
       "|    └─ResidualUnit: 2-1                      --\n",
       "|    |    └─Sequential: 3-1                   114,434\n",
       "|    |    └─Conv3d: 3-2                       3,520\n",
       "|    └─SkipConnection: 2-2                    --\n",
       "|    |    └─Sequential: 3-3                   76,738,318\n",
       "|    └─Sequential: 2-3                        --\n",
       "|    |    └─Convolution: 3-4                  6,919\n",
       "|    |    └─ResidualUnit: 3-5                 110\n",
       "======================================================================\n",
       "Total params: 76,863,301\n",
       "Trainable params: 76,863,301\n",
       "Non-trainable params: 0\n",
       "======================================================================"
      ]
     },
     "execution_count": 19,
     "metadata": {},
     "output_type": "execute_result"
    }
   ],
   "source": [
    "from torchsummary import summary\n",
    "summary(model)"
   ]
  },
  {
   "cell_type": "code",
   "execution_count": 21,
   "id": "29e497bb",
   "metadata": {},
   "outputs": [
    {
     "ename": "AttributeError",
     "evalue": "'UNet' object has no attribute 'Layer'",
     "output_type": "error",
     "traceback": [
      "\u001b[0;31m---------------------------------------------------------------------------\u001b[0m",
      "\u001b[0;31mAttributeError\u001b[0m                            Traceback (most recent call last)",
      "Input \u001b[0;32mIn [21]\u001b[0m, in \u001b[0;36m<cell line: 1>\u001b[0;34m()\u001b[0m\n\u001b[0;32m----> 1\u001b[0m \u001b[43mmodel\u001b[49m\u001b[38;5;241;43m.\u001b[39;49m\u001b[43mLayer\u001b[49m[\u001b[38;5;241m0\u001b[39m]\n",
      "File \u001b[0;32m~/anaconda3/envs/myenv/lib/python3.9/site-packages/torch/nn/modules/module.py:1185\u001b[0m, in \u001b[0;36mModule.__getattr__\u001b[0;34m(self, name)\u001b[0m\n\u001b[1;32m   1183\u001b[0m     \u001b[38;5;28;01mif\u001b[39;00m name \u001b[38;5;129;01min\u001b[39;00m modules:\n\u001b[1;32m   1184\u001b[0m         \u001b[38;5;28;01mreturn\u001b[39;00m modules[name]\n\u001b[0;32m-> 1185\u001b[0m \u001b[38;5;28;01mraise\u001b[39;00m \u001b[38;5;167;01mAttributeError\u001b[39;00m(\u001b[38;5;124m\"\u001b[39m\u001b[38;5;124m'\u001b[39m\u001b[38;5;132;01m{}\u001b[39;00m\u001b[38;5;124m'\u001b[39m\u001b[38;5;124m object has no attribute \u001b[39m\u001b[38;5;124m'\u001b[39m\u001b[38;5;132;01m{}\u001b[39;00m\u001b[38;5;124m'\u001b[39m\u001b[38;5;124m\"\u001b[39m\u001b[38;5;241m.\u001b[39mformat(\n\u001b[1;32m   1186\u001b[0m     \u001b[38;5;28mtype\u001b[39m(\u001b[38;5;28mself\u001b[39m)\u001b[38;5;241m.\u001b[39m\u001b[38;5;18m__name__\u001b[39m, name))\n",
      "\u001b[0;31mAttributeError\u001b[0m: 'UNet' object has no attribute 'Layer'"
     ]
    }
   ],
   "source": [
    "model.Layer[0]"
   ]
  },
  {
   "cell_type": "markdown",
   "id": "4a72aea3",
   "metadata": {},
   "source": [
    "Loss function, optimizer and dice metric"
   ]
  },
  {
   "cell_type": "code",
   "execution_count": 26,
   "id": "67150ce8",
   "metadata": {},
   "outputs": [],
   "source": [
    "loss_function = DiceLoss(to_onehot_y=False, sigmoid=True)\n",
    "optimizer = torch.optim.Adam(model.parameters(), 1e-4)\n",
    "dice_metric = DiceMetric(include_background=True, reduction=\"mean\")"
   ]
  },
  {
   "cell_type": "markdown",
   "id": "df7614a8",
   "metadata": {},
   "source": [
    "Training the model"
   ]
  },
  {
   "cell_type": "code",
   "execution_count": 27,
   "id": "4e011e73",
   "metadata": {},
   "outputs": [
    {
     "name": "stdout",
     "output_type": "stream",
     "text": [
      "----------\n",
      "epoch 1/600\n",
      "1/30, train_loss: 0.8234\n",
      "2/30, train_loss: 0.8568\n",
      "3/30, train_loss: 0.8381\n",
      "4/30, train_loss: 0.7992\n",
      "5/30, train_loss: 0.8145\n",
      "6/30, train_loss: 0.8107\n",
      "7/30, train_loss: 0.7925\n",
      "8/30, train_loss: 0.8308\n",
      "9/30, train_loss: 0.8096\n",
      "10/30, train_loss: 0.8482\n",
      "11/30, train_loss: 0.8309\n",
      "12/30, train_loss: 0.8122\n",
      "13/30, train_loss: 0.8761\n",
      "14/30, train_loss: 0.8099\n",
      "15/30, train_loss: 0.8564\n",
      "16/30, train_loss: 0.8576\n",
      "17/30, train_loss: 0.8676\n",
      "18/30, train_loss: 0.8555\n",
      "epoch 1 average loss: 0.8328\n"
     ]
    },
    {
     "ename": "ValueError",
     "evalue": "y_pred and y should have same shapes.",
     "output_type": "error",
     "traceback": [
      "\u001b[0;31m---------------------------------------------------------------------------\u001b[0m",
      "\u001b[0;31mValueError\u001b[0m                                Traceback (most recent call last)",
      "Input \u001b[0;32mIn [27]\u001b[0m, in \u001b[0;36m<cell line: 12>\u001b[0;34m()\u001b[0m\n\u001b[1;32m     48\u001b[0m     val_labels \u001b[38;5;241m=\u001b[39m [post_label(i) \u001b[38;5;28;01mfor\u001b[39;00m i \u001b[38;5;129;01min\u001b[39;00m decollate_batch(val_labels)]\n\u001b[1;32m     49\u001b[0m     \u001b[38;5;66;03m# compute metric for current iteration\u001b[39;00m\n\u001b[0;32m---> 50\u001b[0m     \u001b[43mdice_metric\u001b[49m\u001b[43m(\u001b[49m\u001b[43my_pred\u001b[49m\u001b[38;5;241;43m=\u001b[39;49m\u001b[43mval_outputs\u001b[49m\u001b[43m,\u001b[49m\u001b[43m \u001b[49m\u001b[43my\u001b[49m\u001b[38;5;241;43m=\u001b[39;49m\u001b[43mval_labels\u001b[49m\u001b[43m)\u001b[49m\n\u001b[1;32m     52\u001b[0m \u001b[38;5;66;03m# aggregate the final mean dice result\u001b[39;00m\n\u001b[1;32m     53\u001b[0m metric \u001b[38;5;241m=\u001b[39m dice_metric\u001b[38;5;241m.\u001b[39maggregate()\u001b[38;5;241m.\u001b[39mitem()\n",
      "File \u001b[0;32m~/anaconda3/envs/myenv/lib/python3.9/site-packages/monai/metrics/metric.py:328\u001b[0m, in \u001b[0;36mCumulativeIterationMetric.__call__\u001b[0;34m(self, y_pred, y)\u001b[0m\n\u001b[1;32m    312\u001b[0m \u001b[38;5;28;01mdef\u001b[39;00m \u001b[38;5;21m__call__\u001b[39m(\u001b[38;5;28mself\u001b[39m, y_pred: TensorOrList, y: Optional[TensorOrList] \u001b[38;5;241m=\u001b[39m \u001b[38;5;28;01mNone\u001b[39;00m):  \u001b[38;5;66;03m# type: ignore\u001b[39;00m\n\u001b[1;32m    313\u001b[0m     \u001b[38;5;124;03m\"\"\"\u001b[39;00m\n\u001b[1;32m    314\u001b[0m \u001b[38;5;124;03m    Execute basic computation for model prediction and ground truth.\u001b[39;00m\n\u001b[1;32m    315\u001b[0m \u001b[38;5;124;03m    It can support  both `list of channel-first Tensor` and `batch-first Tensor`.\u001b[39;00m\n\u001b[0;32m   (...)\u001b[0m\n\u001b[1;32m    326\u001b[0m \u001b[38;5;124;03m        The computed metric values at the iteration level.\u001b[39;00m\n\u001b[1;32m    327\u001b[0m \u001b[38;5;124;03m    \"\"\"\u001b[39;00m\n\u001b[0;32m--> 328\u001b[0m     ret \u001b[38;5;241m=\u001b[39m \u001b[38;5;28;43msuper\u001b[39;49m\u001b[43m(\u001b[49m\u001b[43m)\u001b[49m\u001b[38;5;241;43m.\u001b[39;49m\u001b[38;5;21;43m__call__\u001b[39;49m\u001b[43m(\u001b[49m\u001b[43my_pred\u001b[49m\u001b[38;5;241;43m=\u001b[39;49m\u001b[43my_pred\u001b[49m\u001b[43m,\u001b[49m\u001b[43m \u001b[49m\u001b[43my\u001b[49m\u001b[38;5;241;43m=\u001b[39;49m\u001b[43my\u001b[49m\u001b[43m)\u001b[49m\n\u001b[1;32m    329\u001b[0m     \u001b[38;5;28;01mif\u001b[39;00m \u001b[38;5;28misinstance\u001b[39m(ret, (\u001b[38;5;28mtuple\u001b[39m, \u001b[38;5;28mlist\u001b[39m)):\n\u001b[1;32m    330\u001b[0m         \u001b[38;5;28mself\u001b[39m\u001b[38;5;241m.\u001b[39mextend(\u001b[38;5;241m*\u001b[39mret)\n",
      "File \u001b[0;32m~/anaconda3/envs/myenv/lib/python3.9/site-packages/monai/metrics/metric.py:68\u001b[0m, in \u001b[0;36mIterationMetric.__call__\u001b[0;34m(self, y_pred, y)\u001b[0m\n\u001b[1;32m     66\u001b[0m \u001b[38;5;66;03m# handling a list of channel-first data\u001b[39;00m\n\u001b[1;32m     67\u001b[0m \u001b[38;5;28;01mif\u001b[39;00m \u001b[38;5;28misinstance\u001b[39m(y_pred, (\u001b[38;5;28mlist\u001b[39m, \u001b[38;5;28mtuple\u001b[39m)) \u001b[38;5;129;01mor\u001b[39;00m \u001b[38;5;28misinstance\u001b[39m(y, (\u001b[38;5;28mlist\u001b[39m, \u001b[38;5;28mtuple\u001b[39m)):\n\u001b[0;32m---> 68\u001b[0m     \u001b[38;5;28;01mreturn\u001b[39;00m \u001b[38;5;28;43mself\u001b[39;49m\u001b[38;5;241;43m.\u001b[39;49m\u001b[43m_compute_list\u001b[49m\u001b[43m(\u001b[49m\u001b[43my_pred\u001b[49m\u001b[43m,\u001b[49m\u001b[43m \u001b[49m\u001b[43my\u001b[49m\u001b[43m)\u001b[49m\n\u001b[1;32m     69\u001b[0m \u001b[38;5;66;03m# handling a single batch-first data\u001b[39;00m\n\u001b[1;32m     70\u001b[0m \u001b[38;5;28;01mif\u001b[39;00m \u001b[38;5;28misinstance\u001b[39m(y_pred, torch\u001b[38;5;241m.\u001b[39mTensor):\n",
      "File \u001b[0;32m~/anaconda3/envs/myenv/lib/python3.9/site-packages/monai/metrics/metric.py:90\u001b[0m, in \u001b[0;36mIterationMetric._compute_list\u001b[0;34m(self, y_pred, y)\u001b[0m\n\u001b[1;32m     76\u001b[0m \u001b[38;5;124;03m\"\"\"\u001b[39;00m\n\u001b[1;32m     77\u001b[0m \u001b[38;5;124;03mExecute the metric computation for `y_pred` and `y` in a list of \"channel-first\" tensors.\u001b[39;00m\n\u001b[1;32m     78\u001b[0m \n\u001b[0;32m   (...)\u001b[0m\n\u001b[1;32m     87\u001b[0m \u001b[38;5;124;03mNote: subclass may enhance the operation to have multi-thread support.\u001b[39;00m\n\u001b[1;32m     88\u001b[0m \u001b[38;5;124;03m\"\"\"\u001b[39;00m\n\u001b[1;32m     89\u001b[0m \u001b[38;5;28;01mif\u001b[39;00m y \u001b[38;5;129;01mis\u001b[39;00m \u001b[38;5;129;01mnot\u001b[39;00m \u001b[38;5;28;01mNone\u001b[39;00m:\n\u001b[0;32m---> 90\u001b[0m     ret \u001b[38;5;241m=\u001b[39m [\u001b[38;5;28mself\u001b[39m\u001b[38;5;241m.\u001b[39m_compute_tensor(p\u001b[38;5;241m.\u001b[39mdetach()\u001b[38;5;241m.\u001b[39munsqueeze(\u001b[38;5;241m0\u001b[39m), y_\u001b[38;5;241m.\u001b[39mdetach()\u001b[38;5;241m.\u001b[39munsqueeze(\u001b[38;5;241m0\u001b[39m)) \u001b[38;5;28;01mfor\u001b[39;00m p, y_ \u001b[38;5;129;01min\u001b[39;00m \u001b[38;5;28mzip\u001b[39m(y_pred, y)]\n\u001b[1;32m     91\u001b[0m \u001b[38;5;28;01melse\u001b[39;00m:\n\u001b[1;32m     92\u001b[0m     ret \u001b[38;5;241m=\u001b[39m [\u001b[38;5;28mself\u001b[39m\u001b[38;5;241m.\u001b[39m_compute_tensor(p_\u001b[38;5;241m.\u001b[39mdetach()\u001b[38;5;241m.\u001b[39munsqueeze(\u001b[38;5;241m0\u001b[39m), \u001b[38;5;28;01mNone\u001b[39;00m) \u001b[38;5;28;01mfor\u001b[39;00m p_ \u001b[38;5;129;01min\u001b[39;00m y_pred]\n",
      "File \u001b[0;32m~/anaconda3/envs/myenv/lib/python3.9/site-packages/monai/metrics/metric.py:90\u001b[0m, in \u001b[0;36m<listcomp>\u001b[0;34m(.0)\u001b[0m\n\u001b[1;32m     76\u001b[0m \u001b[38;5;124;03m\"\"\"\u001b[39;00m\n\u001b[1;32m     77\u001b[0m \u001b[38;5;124;03mExecute the metric computation for `y_pred` and `y` in a list of \"channel-first\" tensors.\u001b[39;00m\n\u001b[1;32m     78\u001b[0m \n\u001b[0;32m   (...)\u001b[0m\n\u001b[1;32m     87\u001b[0m \u001b[38;5;124;03mNote: subclass may enhance the operation to have multi-thread support.\u001b[39;00m\n\u001b[1;32m     88\u001b[0m \u001b[38;5;124;03m\"\"\"\u001b[39;00m\n\u001b[1;32m     89\u001b[0m \u001b[38;5;28;01mif\u001b[39;00m y \u001b[38;5;129;01mis\u001b[39;00m \u001b[38;5;129;01mnot\u001b[39;00m \u001b[38;5;28;01mNone\u001b[39;00m:\n\u001b[0;32m---> 90\u001b[0m     ret \u001b[38;5;241m=\u001b[39m [\u001b[38;5;28;43mself\u001b[39;49m\u001b[38;5;241;43m.\u001b[39;49m\u001b[43m_compute_tensor\u001b[49m\u001b[43m(\u001b[49m\u001b[43mp\u001b[49m\u001b[38;5;241;43m.\u001b[39;49m\u001b[43mdetach\u001b[49m\u001b[43m(\u001b[49m\u001b[43m)\u001b[49m\u001b[38;5;241;43m.\u001b[39;49m\u001b[43munsqueeze\u001b[49m\u001b[43m(\u001b[49m\u001b[38;5;241;43m0\u001b[39;49m\u001b[43m)\u001b[49m\u001b[43m,\u001b[49m\u001b[43m \u001b[49m\u001b[43my_\u001b[49m\u001b[38;5;241;43m.\u001b[39;49m\u001b[43mdetach\u001b[49m\u001b[43m(\u001b[49m\u001b[43m)\u001b[49m\u001b[38;5;241;43m.\u001b[39;49m\u001b[43munsqueeze\u001b[49m\u001b[43m(\u001b[49m\u001b[38;5;241;43m0\u001b[39;49m\u001b[43m)\u001b[49m\u001b[43m)\u001b[49m \u001b[38;5;28;01mfor\u001b[39;00m p, y_ \u001b[38;5;129;01min\u001b[39;00m \u001b[38;5;28mzip\u001b[39m(y_pred, y)]\n\u001b[1;32m     91\u001b[0m \u001b[38;5;28;01melse\u001b[39;00m:\n\u001b[1;32m     92\u001b[0m     ret \u001b[38;5;241m=\u001b[39m [\u001b[38;5;28mself\u001b[39m\u001b[38;5;241m.\u001b[39m_compute_tensor(p_\u001b[38;5;241m.\u001b[39mdetach()\u001b[38;5;241m.\u001b[39munsqueeze(\u001b[38;5;241m0\u001b[39m), \u001b[38;5;28;01mNone\u001b[39;00m) \u001b[38;5;28;01mfor\u001b[39;00m p_ \u001b[38;5;129;01min\u001b[39;00m y_pred]\n",
      "File \u001b[0;32m~/anaconda3/envs/myenv/lib/python3.9/site-packages/monai/metrics/meandice.py:80\u001b[0m, in \u001b[0;36mDiceMetric._compute_tensor\u001b[0;34m(self, y_pred, y)\u001b[0m\n\u001b[1;32m     78\u001b[0m     \u001b[38;5;28;01mraise\u001b[39;00m \u001b[38;5;167;01mValueError\u001b[39;00m(\u001b[38;5;124m\"\u001b[39m\u001b[38;5;124my_pred should have at least three dimensions.\u001b[39m\u001b[38;5;124m\"\u001b[39m)\n\u001b[1;32m     79\u001b[0m \u001b[38;5;66;03m# compute dice (BxC) for each channel for each batch\u001b[39;00m\n\u001b[0;32m---> 80\u001b[0m \u001b[38;5;28;01mreturn\u001b[39;00m \u001b[43mcompute_meandice\u001b[49m\u001b[43m(\u001b[49m\u001b[43my_pred\u001b[49m\u001b[38;5;241;43m=\u001b[39;49m\u001b[43my_pred\u001b[49m\u001b[43m,\u001b[49m\u001b[43m \u001b[49m\u001b[43my\u001b[49m\u001b[38;5;241;43m=\u001b[39;49m\u001b[43my\u001b[49m\u001b[43m,\u001b[49m\u001b[43m \u001b[49m\u001b[43minclude_background\u001b[49m\u001b[38;5;241;43m=\u001b[39;49m\u001b[38;5;28;43mself\u001b[39;49m\u001b[38;5;241;43m.\u001b[39;49m\u001b[43minclude_background\u001b[49m\u001b[43m)\u001b[49m\n",
      "File \u001b[0;32m~/anaconda3/envs/myenv/lib/python3.9/site-packages/monai/metrics/meandice.py:123\u001b[0m, in \u001b[0;36mcompute_meandice\u001b[0;34m(y_pred, y, include_background)\u001b[0m\n\u001b[1;32m    120\u001b[0m y_pred \u001b[38;5;241m=\u001b[39m y_pred\u001b[38;5;241m.\u001b[39mfloat()\n\u001b[1;32m    122\u001b[0m \u001b[38;5;28;01mif\u001b[39;00m y\u001b[38;5;241m.\u001b[39mshape \u001b[38;5;241m!=\u001b[39m y_pred\u001b[38;5;241m.\u001b[39mshape:\n\u001b[0;32m--> 123\u001b[0m     \u001b[38;5;28;01mraise\u001b[39;00m \u001b[38;5;167;01mValueError\u001b[39;00m(\u001b[38;5;124m\"\u001b[39m\u001b[38;5;124my_pred and y should have same shapes.\u001b[39m\u001b[38;5;124m\"\u001b[39m)\n\u001b[1;32m    125\u001b[0m \u001b[38;5;66;03m# reducing only spatial dimensions (not batch nor channels)\u001b[39;00m\n\u001b[1;32m    126\u001b[0m n_len \u001b[38;5;241m=\u001b[39m \u001b[38;5;28mlen\u001b[39m(y_pred\u001b[38;5;241m.\u001b[39mshape)\n",
      "\u001b[0;31mValueError\u001b[0m: y_pred and y should have same shapes."
     ]
    }
   ],
   "source": [
    "\n",
    "max_epochs = 600\n",
    "val_interval = 1\n",
    "best_metric = -1\n",
    "best_metric_epoch = -1\n",
    "epoch_loss_values = []\n",
    "metric_values = []\n",
    "\n",
    "\n",
    "post_pred = Compose([AsDiscrete(argmax=True, to_onehot=None)])\n",
    "post_label = Compose([AsDiscrete(to_onehot=None)])\n",
    "\n",
    "for epoch in range(max_epochs):\n",
    "    print(\"-\" * 10)\n",
    "    print(f\"epoch {epoch + 1}/{max_epochs}\")\n",
    "    model.train()\n",
    "    epoch_loss = 0\n",
    "    step = 0\n",
    "    for batch_data in train_loader:\n",
    "        step += 1\n",
    "        inputs, labels = (\n",
    "            batch_data[0].to(device),\n",
    "            batch_data[1].to(device)    \n",
    "        )\n",
    "        optimizer.zero_grad()\n",
    "        outputs = model(inputs)\n",
    "        loss = loss_function(outputs, labels)\n",
    "        loss.backward()\n",
    "        optimizer.step()\n",
    "        epoch_loss += loss.item()\n",
    "        print(f\"{step}/{len(our_dataset) // train_loader.batch_size}, \"\n",
    "              f\"train_loss: {loss.item():.4f}\")\n",
    "    epoch_loss /= step\n",
    "    epoch_loss_values.append(epoch_loss)\n",
    "    print(f\"epoch {epoch + 1} average loss: {epoch_loss:.4f}\")\n",
    "\n",
    "    if (epoch + 1) % val_interval == 0:\n",
    "        model.eval()\n",
    "        with torch.no_grad():\n",
    "            for val_data in val_loader:\n",
    "                val_inputs, val_labels = (\n",
    "                    val_data[0].to(device),\n",
    "                    val_data[1].to(device),\n",
    "                )\n",
    "                roi_size = (160, 160, 160)\n",
    "                sw_batch_size = 4\n",
    "                val_outputs = sliding_window_inference(val_inputs, roi_size, sw_batch_size, model)\n",
    "                val_outputs = [post_pred(i) for i in decollate_batch(val_outputs)]\n",
    "                print(val_outputs.shape)\n",
    "                val_labels = [post_label(i) for i in decollate_batch(val_labels)]\n",
    "                print(val_labels.shape)\n",
    "                # compute metric for current iteration\n",
    "                dice_metric(y_pred=val_outputs, y=val_labels)\n",
    "\n",
    "            # aggregate the final mean dice result\n",
    "            metric = dice_metric.aggregate().item()\n",
    "            # reset the status for next validation round\n",
    "            dice_metric.reset()\n",
    "\n",
    "            metric_values.append(metric)\n",
    "            if metric > best_metric:\n",
    "                best_metric = metric\n",
    "                best_metric_epoch = epoch + 1\n",
    "                torch.save(model.state_dict(), os.path.join(\n",
    "                    root_dir, \"best_metric_model.pth\"))\n",
    "                print(\"saved new best metric model\")\n",
    "            print(\n",
    "                f\"current epoch: {epoch + 1} current mean dice: {metric:.4f}\"\n",
    "                f\"\\nbest mean dice: {best_metric:.4f} \"\n",
    "                f\"at epoch: {best_metric_epoch}\"\n",
    "            )\n",
    "            \n",
    "print(\n",
    "    f\"train completed, best_metric: {best_metric:.4f} \"\n",
    "    f\"at epoch: {best_metric_epoch}\")"
   ]
  },
  {
   "cell_type": "code",
   "execution_count": null,
   "id": "e46d2ff8",
   "metadata": {},
   "outputs": [],
   "source": []
  }
 ],
 "metadata": {
  "kernelspec": {
   "display_name": "Python 3 (ipykernel)",
   "language": "python",
   "name": "python3"
  },
  "language_info": {
   "codemirror_mode": {
    "name": "ipython",
    "version": 3
   },
   "file_extension": ".py",
   "mimetype": "text/x-python",
   "name": "python",
   "nbconvert_exporter": "python",
   "pygments_lexer": "ipython3",
   "version": "3.9.12"
  }
 },
 "nbformat": 4,
 "nbformat_minor": 5
}
